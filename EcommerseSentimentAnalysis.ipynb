{
  "nbformat": 4,
  "nbformat_minor": 0,
  "metadata": {
    "kernelspec": {
      "display_name": "Python 3",
      "language": "python",
      "name": "python3"
    },
    "language_info": {
      "codemirror_mode": {
        "name": "ipython",
        "version": 3
      },
      "file_extension": ".py",
      "mimetype": "text/x-python",
      "name": "python",
      "nbconvert_exporter": "python",
      "pygments_lexer": "ipython3",
      "version": "3.7.3"
    },
    "colab": {
      "name": "EcommerseSentimentAnalysis.ipynb",
      "provenance": []
    }
  },
  "cells": [
    {
      "cell_type": "code",
      "metadata": {
        "id": "MaYkOkZIGVRK",
        "colab_type": "code",
        "colab": {},
        "outputId": "e767bdba-22cc-41f4-d892-b0c5d1cae742"
      },
      "source": [
        "import pandas as pd\n",
        "ecom = pd.read_csv('Womens_Clothing_E_Commerce_Reviews.csv')\n",
        "\n",
        "ecom = ecom.drop(['Unnamed: 0'],axis=1)\n",
        "ecom = ecom.drop(columns = 'Clothing ID')\n",
        "ecom.columns = ['age','title','review_text','Rating','recomended_ind','+feedback_cnt','division_name',\n",
        "                'department','class_name']\n",
        "\n",
        "for i in ecom.columns[ecom.isna().any()].tolist():\n",
        "    print(i,\"has\",ecom[ecom[i].isna()==True].shape[0],\"null values\")"
      ],
      "execution_count": null,
      "outputs": [
        {
          "output_type": "stream",
          "text": [
            "title has 3810 null values\n",
            "review_text has 845 null values\n",
            "division_name has 14 null values\n",
            "department has 14 null values\n",
            "class_name has 14 null values\n"
          ],
          "name": "stdout"
        }
      ]
    },
    {
      "cell_type": "code",
      "metadata": {
        "id": "XOIUosmrGVRi",
        "colab_type": "code",
        "colab": {}
      },
      "source": [
        "ecom['Class']='bad'\n",
        "ecom.loc[ecom.Rating>3,['Class']]='good'\n",
        "\n",
        "def ret_rating(rating):\n",
        "    if rating >3:\n",
        "        return 'good'\n",
        "    else:\n",
        "        return 'bad'"
      ],
      "execution_count": null,
      "outputs": []
    },
    {
      "cell_type": "code",
      "metadata": {
        "id": "iLy-b0ODGVRt",
        "colab_type": "code",
        "colab": {},
        "outputId": "54ae8453-22b3-4be2-ccdf-34e4cede9e39"
      },
      "source": [
        "ecom.head()"
      ],
      "execution_count": null,
      "outputs": [
        {
          "output_type": "execute_result",
          "data": {
            "text/html": [
              "<div>\n",
              "<style scoped>\n",
              "    .dataframe tbody tr th:only-of-type {\n",
              "        vertical-align: middle;\n",
              "    }\n",
              "\n",
              "    .dataframe tbody tr th {\n",
              "        vertical-align: top;\n",
              "    }\n",
              "\n",
              "    .dataframe thead th {\n",
              "        text-align: right;\n",
              "    }\n",
              "</style>\n",
              "<table border=\"1\" class=\"dataframe\">\n",
              "  <thead>\n",
              "    <tr style=\"text-align: right;\">\n",
              "      <th></th>\n",
              "      <th>age</th>\n",
              "      <th>title</th>\n",
              "      <th>review_text</th>\n",
              "      <th>Rating</th>\n",
              "      <th>recomended_ind</th>\n",
              "      <th>+feedback_cnt</th>\n",
              "      <th>division_name</th>\n",
              "      <th>department</th>\n",
              "      <th>class_name</th>\n",
              "      <th>Class</th>\n",
              "    </tr>\n",
              "  </thead>\n",
              "  <tbody>\n",
              "    <tr>\n",
              "      <th>0</th>\n",
              "      <td>33</td>\n",
              "      <td>NaN</td>\n",
              "      <td>Absolutely wonderful - silky and sexy and comf...</td>\n",
              "      <td>4</td>\n",
              "      <td>1</td>\n",
              "      <td>0</td>\n",
              "      <td>Initmates</td>\n",
              "      <td>Intimate</td>\n",
              "      <td>Intimates</td>\n",
              "      <td>good</td>\n",
              "    </tr>\n",
              "    <tr>\n",
              "      <th>1</th>\n",
              "      <td>34</td>\n",
              "      <td>NaN</td>\n",
              "      <td>Love this dress!  it's sooo pretty.  i happene...</td>\n",
              "      <td>5</td>\n",
              "      <td>1</td>\n",
              "      <td>4</td>\n",
              "      <td>General</td>\n",
              "      <td>Dresses</td>\n",
              "      <td>Dresses</td>\n",
              "      <td>good</td>\n",
              "    </tr>\n",
              "    <tr>\n",
              "      <th>2</th>\n",
              "      <td>60</td>\n",
              "      <td>Some major design flaws</td>\n",
              "      <td>I had such high hopes for this dress and reall...</td>\n",
              "      <td>3</td>\n",
              "      <td>0</td>\n",
              "      <td>0</td>\n",
              "      <td>General</td>\n",
              "      <td>Dresses</td>\n",
              "      <td>Dresses</td>\n",
              "      <td>bad</td>\n",
              "    </tr>\n",
              "    <tr>\n",
              "      <th>3</th>\n",
              "      <td>50</td>\n",
              "      <td>My favorite buy!</td>\n",
              "      <td>I love, love, love this jumpsuit. it's fun, fl...</td>\n",
              "      <td>5</td>\n",
              "      <td>1</td>\n",
              "      <td>0</td>\n",
              "      <td>General Petite</td>\n",
              "      <td>Bottoms</td>\n",
              "      <td>Pants</td>\n",
              "      <td>good</td>\n",
              "    </tr>\n",
              "    <tr>\n",
              "      <th>4</th>\n",
              "      <td>47</td>\n",
              "      <td>Flattering shirt</td>\n",
              "      <td>This shirt is very flattering to all due to th...</td>\n",
              "      <td>5</td>\n",
              "      <td>1</td>\n",
              "      <td>6</td>\n",
              "      <td>General</td>\n",
              "      <td>Tops</td>\n",
              "      <td>Blouses</td>\n",
              "      <td>good</td>\n",
              "    </tr>\n",
              "  </tbody>\n",
              "</table>\n",
              "</div>"
            ],
            "text/plain": [
              "   age                    title  \\\n",
              "0   33                      NaN   \n",
              "1   34                      NaN   \n",
              "2   60  Some major design flaws   \n",
              "3   50         My favorite buy!   \n",
              "4   47         Flattering shirt   \n",
              "\n",
              "                                         review_text  Rating  recomended_ind  \\\n",
              "0  Absolutely wonderful - silky and sexy and comf...       4               1   \n",
              "1  Love this dress!  it's sooo pretty.  i happene...       5               1   \n",
              "2  I had such high hopes for this dress and reall...       3               0   \n",
              "3  I love, love, love this jumpsuit. it's fun, fl...       5               1   \n",
              "4  This shirt is very flattering to all due to th...       5               1   \n",
              "\n",
              "   +feedback_cnt   division_name department class_name Class  \n",
              "0              0       Initmates   Intimate  Intimates  good  \n",
              "1              4         General    Dresses    Dresses  good  \n",
              "2              0         General    Dresses    Dresses   bad  \n",
              "3              0  General Petite    Bottoms      Pants  good  \n",
              "4              6         General       Tops    Blouses  good  "
            ]
          },
          "metadata": {
            "tags": []
          },
          "execution_count": 203
        }
      ]
    },
    {
      "cell_type": "code",
      "metadata": {
        "id": "4OLn9i3QGVR5",
        "colab_type": "code",
        "colab": {},
        "outputId": "9a27c0e0-50b7-4b47-a6fc-1ad38ccbad18"
      },
      "source": [
        "import warnings; warnings.simplefilter('ignore')\n",
        "import numpy as np\n",
        "import matplotlib.pyplot as plt\n",
        "import seaborn as sns\n",
        "\n",
        "abc1= ecom.groupby(['Rating'])['Rating'].agg({'counts':'count'})\n",
        "abc1= abc1.sort_values(['counts'],ascending=False)\n",
        "plt.rcParams[\"figure.figsize\"] = (20,10)\n",
        "y_pos = np.arange(len(abc1.index))\n",
        "counts = abc1['counts'].tolist()\n",
        "plt.bar(y_pos,counts,align='edge',width=0.4,alpha=0.5,color=['black','red','green','blue','yellow'])\n",
        "plt.xticks(y_pos,abc1.index,rotation=90,fontsize=10)\n",
        "plt.ylabel('Counts')\n",
        "plt.xlabel('Ratings')\n",
        "plt.title('Ratings vs Counts',fontsize=10)\n",
        "plt.show()"
      ],
      "execution_count": null,
      "outputs": [
        {
          "output_type": "display_data",
          "data": {
            "image/png": "[encoded data removed]",
            "text/plain": [
              "<Figure size 1440x720 with 1 Axes>"
            ]
          },
          "metadata": {
            "tags": [],
            "needs_background": "light"
          }
        }
      ]
    },
    {
      "cell_type": "code",
      "metadata": {
        "id": "WQ0dWJUiGVSE",
        "colab_type": "code",
        "colab": {},
        "outputId": "b8cb76b7-2846-4bcb-d7c4-dc05081748b7"
      },
      "source": [
        "abc1= ecom.groupby(['Class'])['Class'].agg({'counts':'count'})\n",
        "abc1= abc1.sort_values(['counts'],ascending=False)\n",
        "plt.rcParams[\"figure.figsize\"] = (8,5)\n",
        "y_pos = np.arange(len(abc1.index))\n",
        "counts = abc1['counts'].tolist()\n",
        "plt.bar(y_pos,counts,align='edge',alpha=0.5,color=['black','red','green','blue','yellow'])\n",
        "plt.xticks(y_pos,abc1.index,rotation=90,fontsize=10)\n",
        "plt.ylabel('Counts')\n",
        "plt.xlabel('Class')\n",
        "plt.title('Class vs Counts',fontsize=10)\n",
        "plt.show()"
      ],
      "execution_count": null,
      "outputs": [
        {
          "output_type": "display_data",
          "data": {
            "image/png": "[encoded data removed]",
            "text/plain": [
              "<Figure size 576x360 with 1 Axes>"
            ]
          },
          "metadata": {
            "tags": [],
            "needs_background": "light"
          }
        }
      ]
    },
    {
      "cell_type": "code",
      "metadata": {
        "id": "t9b5PzW5GVSP",
        "colab_type": "code",
        "colab": {},
        "outputId": "cd77d623-b8b3-4239-fdf9-c00ae8109993"
      },
      "source": [
        "Age_List = pd.DataFrame(columns=['Age_Group','total_reviews','good','bad'])\n",
        "ag_list=[]\n",
        "for i in [[18,25],[26,30],[31,40],[41,50],[51,60],[61,70],[71,100]]:\n",
        "    ag_list.append([str(i[0])+'-'+str(i[1]),ecom[(ecom.age>=i[0]) & (ecom.age<i[1])]['Class'].count(),\n",
        "                   ecom[(ecom.age>=i[0]) & (ecom.age<i[1])].groupby('Class')['Class'].count()['good'] , ecom[(ecom.age>=i[0]) & (ecom.age<i[1])].groupby('Class')['Class'].count()['bad'] ])\n",
        "Age_List = Age_List.append(pd.DataFrame(ag_list,columns=['Age_Group','total_reviews','good','bad']),ignore_index=True)\n",
        "Age_List"
      ],
      "execution_count": null,
      "outputs": [
        {
          "output_type": "execute_result",
          "data": {
            "text/html": [
              "<div>\n",
              "<style scoped>\n",
              "    .dataframe tbody tr th:only-of-type {\n",
              "        vertical-align: middle;\n",
              "    }\n",
              "\n",
              "    .dataframe tbody tr th {\n",
              "        vertical-align: top;\n",
              "    }\n",
              "\n",
              "    .dataframe thead th {\n",
              "        text-align: right;\n",
              "    }\n",
              "</style>\n",
              "<table border=\"1\" class=\"dataframe\">\n",
              "  <thead>\n",
              "    <tr style=\"text-align: right;\">\n",
              "      <th></th>\n",
              "      <th>Age_Group</th>\n",
              "      <th>total_reviews</th>\n",
              "      <th>good</th>\n",
              "      <th>bad</th>\n",
              "    </tr>\n",
              "  </thead>\n",
              "  <tbody>\n",
              "    <tr>\n",
              "      <th>0</th>\n",
              "      <td>18-25</td>\n",
              "      <td>892</td>\n",
              "      <td>733</td>\n",
              "      <td>159</td>\n",
              "    </tr>\n",
              "    <tr>\n",
              "      <th>1</th>\n",
              "      <td>26-30</td>\n",
              "      <td>1708</td>\n",
              "      <td>1271</td>\n",
              "      <td>437</td>\n",
              "    </tr>\n",
              "    <tr>\n",
              "      <th>2</th>\n",
              "      <td>31-40</td>\n",
              "      <td>7295</td>\n",
              "      <td>5585</td>\n",
              "      <td>1710</td>\n",
              "    </tr>\n",
              "    <tr>\n",
              "      <th>3</th>\n",
              "      <td>41-50</td>\n",
              "      <td>5510</td>\n",
              "      <td>4230</td>\n",
              "      <td>1280</td>\n",
              "    </tr>\n",
              "    <tr>\n",
              "      <th>4</th>\n",
              "      <td>51-60</td>\n",
              "      <td>3550</td>\n",
              "      <td>2822</td>\n",
              "      <td>728</td>\n",
              "    </tr>\n",
              "    <tr>\n",
              "      <th>5</th>\n",
              "      <td>61-70</td>\n",
              "      <td>1964</td>\n",
              "      <td>1589</td>\n",
              "      <td>375</td>\n",
              "    </tr>\n",
              "    <tr>\n",
              "      <th>6</th>\n",
              "      <td>71-100</td>\n",
              "      <td>380</td>\n",
              "      <td>302</td>\n",
              "      <td>78</td>\n",
              "    </tr>\n",
              "  </tbody>\n",
              "</table>\n",
              "</div>"
            ],
            "text/plain": [
              "  Age_Group total_reviews  good   bad\n",
              "0     18-25           892   733   159\n",
              "1     26-30          1708  1271   437\n",
              "2     31-40          7295  5585  1710\n",
              "3     41-50          5510  4230  1280\n",
              "4     51-60          3550  2822   728\n",
              "5     61-70          1964  1589   375\n",
              "6    71-100           380   302    78"
            ]
          },
          "metadata": {
            "tags": []
          },
          "execution_count": 206
        }
      ]
    },
    {
      "cell_type": "code",
      "metadata": {
        "id": "jKpjFXN8GVSc",
        "colab_type": "code",
        "colab": {},
        "outputId": "572dc2eb-8a8e-4470-b4c3-de22ce4424ae"
      },
      "source": [
        "sns.set()\n",
        "Age_List[['Age_Group','good','bad']].set_index('Age_Group').plot(kind='bar',stacked=True)"
      ],
      "execution_count": null,
      "outputs": [
        {
          "output_type": "execute_result",
          "data": {
            "text/plain": [
              "<matplotlib.axes._subplots.AxesSubplot at 0x25021a38908>"
            ]
          },
          "metadata": {
            "tags": []
          },
          "execution_count": 207
        },
        {
          "output_type": "display_data",
          "data": {
            "image/png": "[encoded data removed]",
            "text/plain": [
              "<Figure size 576x360 with 1 Axes>"
            ]
          },
          "metadata": {
            "tags": []
          }
        }
      ]
    },
    {
      "cell_type": "code",
      "metadata": {
        "id": "P1hTWD0xGVSq",
        "colab_type": "code",
        "colab": {},
        "outputId": "7e66c598-a3c8-49e6-a2a5-03dc13852f54"
      },
      "source": [
        "Rec_List = pd.DataFrame(columns=['Class','ind1_cnt','ind0_cnt'])\n",
        "Rc_list=[]\n",
        "for i in list([[1,0,'good'],[1,0,'bad']]):\n",
        "    Rc_list.append([i[2],ecom[(ecom.Class==i[2]) & (ecom.recomended_ind==int(i[0]))]['Class'].count(),ecom[(ecom.Class==i[2]) & (ecom.recomended_ind==int(i[1]))]['Class'].count()])\n",
        "Rec_List=Rec_List.append(pd.DataFrame(Rc_list , columns=['Class','ind1_cnt','ind0_cnt']))\n",
        "Rec_List"
      ],
      "execution_count": null,
      "outputs": [
        {
          "output_type": "execute_result",
          "data": {
            "text/html": [
              "<div>\n",
              "<style scoped>\n",
              "    .dataframe tbody tr th:only-of-type {\n",
              "        vertical-align: middle;\n",
              "    }\n",
              "\n",
              "    .dataframe tbody tr th {\n",
              "        vertical-align: top;\n",
              "    }\n",
              "\n",
              "    .dataframe thead th {\n",
              "        text-align: right;\n",
              "    }\n",
              "</style>\n",
              "<table border=\"1\" class=\"dataframe\">\n",
              "  <thead>\n",
              "    <tr style=\"text-align: right;\">\n",
              "      <th></th>\n",
              "      <th>Class</th>\n",
              "      <th>ind1_cnt</th>\n",
              "      <th>ind0_cnt</th>\n",
              "    </tr>\n",
              "  </thead>\n",
              "  <tbody>\n",
              "    <tr>\n",
              "      <th>0</th>\n",
              "      <td>good</td>\n",
              "      <td>18015</td>\n",
              "      <td>193</td>\n",
              "    </tr>\n",
              "    <tr>\n",
              "      <th>1</th>\n",
              "      <td>bad</td>\n",
              "      <td>1299</td>\n",
              "      <td>3979</td>\n",
              "    </tr>\n",
              "  </tbody>\n",
              "</table>\n",
              "</div>"
            ],
            "text/plain": [
              "  Class ind1_cnt ind0_cnt\n",
              "0  good    18015      193\n",
              "1   bad     1299     3979"
            ]
          },
          "metadata": {
            "tags": []
          },
          "execution_count": 208
        }
      ]
    },
    {
      "cell_type": "code",
      "metadata": {
        "id": "UmStjEvUGVS3",
        "colab_type": "code",
        "colab": {},
        "outputId": "9a2a4402-e8d6-4158-d842-51ce0e3ec1e9"
      },
      "source": [
        "sns.set()\n",
        "Rec_List[['Class','ind1_cnt','ind0_cnt']].set_index('Class').plot(kind='bar', stacked=True)"
      ],
      "execution_count": null,
      "outputs": [
        {
          "output_type": "execute_result",
          "data": {
            "text/plain": [
              "<matplotlib.axes._subplots.AxesSubplot at 0x250198f2630>"
            ]
          },
          "metadata": {
            "tags": []
          },
          "execution_count": 209
        },
        {
          "output_type": "display_data",
          "data": {
            "image/png": "[encoded data removed]",
            "text/plain": [
              "<Figure size 576x360 with 1 Axes>"
            ]
          },
          "metadata": {
            "tags": []
          }
        }
      ]
    },
    {
      "cell_type": "code",
      "metadata": {
        "id": "TzptePV1GVTC",
        "colab_type": "code",
        "colab": {}
      },
      "source": [
        "ecomc=ecom.copy()\n",
        "ecomc=ecom.dropna(subset=['review_text'])"
      ],
      "execution_count": null,
      "outputs": []
    },
    {
      "cell_type": "code",
      "metadata": {
        "id": "Y8xMuw0aGVTM",
        "colab_type": "code",
        "colab": {},
        "outputId": "4b72cb85-ffff-4c91-8a2c-4e1b2cb73fc6"
      },
      "source": [
        "import re\n",
        "import nltk\n",
        "import string\n",
        "from nltk.corpus import stopwords\n",
        "from nltk.stem import PorterStemmer\n",
        "from nltk.stem.wordnet import WordNetLemmatizer\n",
        "\n",
        "nltk.download('stopwords')\n",
        "stop = set(stopwords.words('english'))\n",
        "sno = nltk.stem.SnowballStemmer('english')\n",
        "\n",
        "def cleanhtml(sentence):\n",
        "    cleaner=re.compile('<.*?>')\n",
        "    cleantext=re.sub(cleaner,' ',sentence)\n",
        "    return cleantext\n",
        "def cleanpunc(sentence):\n",
        "    cleaned = re.sub(r'[?|!|\\'|\"|#]',r'',sentence)\n",
        "    cleaned = re.sub(r'[.|,|)|(|\\|/]',r' ',cleaned)\n",
        "    return cleaned"
      ],
      "execution_count": null,
      "outputs": [
        {
          "output_type": "stream",
          "text": [
            "[nltk_data] Downloading package stopwords to C:\\Users\\Utkarsh\n",
            "[nltk_data]     Gaurav\\AppData\\Roaming\\nltk_data...\n",
            "[nltk_data]   Package stopwords is already up-to-date!\n"
          ],
          "name": "stderr"
        }
      ]
    },
    {
      "cell_type": "code",
      "metadata": {
        "id": "mf13krrCGVTX",
        "colab_type": "code",
        "colab": {}
      },
      "source": [
        "import os\n",
        "from tqdm import tqdm\n",
        "import sqlite3\n",
        "\n",
        "from sklearn.feature_extraction.text import TfidfTransformer\n",
        "from sklearn.feature_extraction.text import TfidfVectorizer\n",
        "\n",
        "from sklearn.feature_extraction.text import CountVectorizer\n",
        "from sklearn.metrics import confusion_matrix\n",
        "from sklearn import metrics\n",
        "from sklearn.metrics import roc_curve, auc\n",
        "from nltk.stem.porter import PorterStemmer\n",
        "\n",
        "if not os.path.isfile('cleaned_final.sqlite'):\n",
        "    final_string=[]\n",
        "    all_pos_words=[]\n",
        "    all_neg_words=[]\n",
        "    for i, sent in enumerate(tqdm(ecomc['review_text'].values)):\n",
        "        filtered_sentence=[]\n",
        "        sent=cleanhtml(sent)\n",
        "        for w in sent.split():\n",
        "            for cleaned_words in cleanpunc(w).split():\n",
        "                if((cleaned_words.isalpha()) & (len(cleaned_words)>2)):\n",
        "                    s=(sno.stem(cleaned_words.lower())).encode('utf8')\n",
        "                    filtered_sentence.append(s)\n",
        "                    \n",
        "        str1 = b\" \".join(filtered_sentence)\n",
        "        final_string.append(str1)\n",
        "    \n",
        "    ecomc['CleanedText']=final_string\n",
        "    ecomc['CleanedText']=ecomc['CleanedText'].str.decode(\"utf-8\")\n",
        "    \n",
        "    conn = sqlite3.connect('cleaned_final.sqlite')\n",
        "    c=conn.cursor()\n",
        "    conn.text_factory = str\n",
        "    ecomc.to_sql('Reviews',conn, schema=None, if_exists='replace',\\\n",
        "                index=True, index_label=None, chunksize=None, dtype=None)\n",
        "    conn.close()"
      ],
      "execution_count": null,
      "outputs": []
    },
    {
      "cell_type": "code",
      "metadata": {
        "id": "LriqU7cdGVTh",
        "colab_type": "code",
        "colab": {}
      },
      "source": [
        "from gensim.models import Word2Vec\n",
        "from gensim.models import KeyedVectors\n",
        "import pickle"
      ],
      "execution_count": null,
      "outputs": []
    },
    {
      "cell_type": "code",
      "metadata": {
        "id": "M8tlkXIiGVTq",
        "colab_type": "code",
        "colab": {}
      },
      "source": [
        "import os \n",
        "if os.path.isfile('cleaned_final.sqlite'):\n",
        "    conn = sqlite3.connect('cleaned_final.sqlite')\n",
        "    final = pd.read_sql_query(\"\"\" SELECT * FROM Reviews\"\"\", conn)\n",
        "    conn.close()\n",
        "else:\n",
        "    print(\"Please run the above cell\")\n",
        "    "
      ],
      "execution_count": null,
      "outputs": []
    },
    {
      "cell_type": "code",
      "metadata": {
        "id": "DsYRMXdIGVT0",
        "colab_type": "code",
        "colab": {},
        "outputId": "2c733b1d-a816-4de3-b57a-91c82add79ea"
      },
      "source": [
        "final.rename(columns={'class':'Class'},inplace=True)\n",
        "final.head()"
      ],
      "execution_count": null,
      "outputs": [
        {
          "output_type": "execute_result",
          "data": {
            "text/html": [
              "<div>\n",
              "<style scoped>\n",
              "    .dataframe tbody tr th:only-of-type {\n",
              "        vertical-align: middle;\n",
              "    }\n",
              "\n",
              "    .dataframe tbody tr th {\n",
              "        vertical-align: top;\n",
              "    }\n",
              "\n",
              "    .dataframe thead th {\n",
              "        text-align: right;\n",
              "    }\n",
              "</style>\n",
              "<table border=\"1\" class=\"dataframe\">\n",
              "  <thead>\n",
              "    <tr style=\"text-align: right;\">\n",
              "      <th></th>\n",
              "      <th>index</th>\n",
              "      <th>age</th>\n",
              "      <th>title</th>\n",
              "      <th>review_text</th>\n",
              "      <th>Rating</th>\n",
              "      <th>recomended_ind</th>\n",
              "      <th>+feedback_cnt</th>\n",
              "      <th>division_name</th>\n",
              "      <th>department</th>\n",
              "      <th>class_name</th>\n",
              "      <th>Class</th>\n",
              "      <th>CleanedText</th>\n",
              "    </tr>\n",
              "  </thead>\n",
              "  <tbody>\n",
              "    <tr>\n",
              "      <th>0</th>\n",
              "      <td>0</td>\n",
              "      <td>33</td>\n",
              "      <td>None</td>\n",
              "      <td>Absolutely wonderful - silky and sexy and comf...</td>\n",
              "      <td>4</td>\n",
              "      <td>1</td>\n",
              "      <td>0</td>\n",
              "      <td>Initmates</td>\n",
              "      <td>Intimate</td>\n",
              "      <td>Intimates</td>\n",
              "      <td>good</td>\n",
              "      <td>absolut wonder silki and sexi and comfort</td>\n",
              "    </tr>\n",
              "    <tr>\n",
              "      <th>1</th>\n",
              "      <td>1</td>\n",
              "      <td>34</td>\n",
              "      <td>None</td>\n",
              "      <td>Love this dress!  it's sooo pretty.  i happene...</td>\n",
              "      <td>5</td>\n",
              "      <td>1</td>\n",
              "      <td>4</td>\n",
              "      <td>General</td>\n",
              "      <td>Dresses</td>\n",
              "      <td>Dresses</td>\n",
              "      <td>good</td>\n",
              "      <td>love this dress it sooo pretti happen find sto...</td>\n",
              "    </tr>\n",
              "    <tr>\n",
              "      <th>2</th>\n",
              "      <td>2</td>\n",
              "      <td>60</td>\n",
              "      <td>Some major design flaws</td>\n",
              "      <td>I had such high hopes for this dress and reall...</td>\n",
              "      <td>3</td>\n",
              "      <td>0</td>\n",
              "      <td>0</td>\n",
              "      <td>General</td>\n",
              "      <td>Dresses</td>\n",
              "      <td>Dresses</td>\n",
              "      <td>bad</td>\n",
              "      <td>had such high hope for this dress and realli w...</td>\n",
              "    </tr>\n",
              "    <tr>\n",
              "      <th>3</th>\n",
              "      <td>3</td>\n",
              "      <td>50</td>\n",
              "      <td>My favorite buy!</td>\n",
              "      <td>I love, love, love this jumpsuit. it's fun, fl...</td>\n",
              "      <td>5</td>\n",
              "      <td>1</td>\n",
              "      <td>0</td>\n",
              "      <td>General Petite</td>\n",
              "      <td>Bottoms</td>\n",
              "      <td>Pants</td>\n",
              "      <td>good</td>\n",
              "      <td>love love love this jumpsuit it fun flirti and...</td>\n",
              "    </tr>\n",
              "    <tr>\n",
              "      <th>4</th>\n",
              "      <td>4</td>\n",
              "      <td>47</td>\n",
              "      <td>Flattering shirt</td>\n",
              "      <td>This shirt is very flattering to all due to th...</td>\n",
              "      <td>5</td>\n",
              "      <td>1</td>\n",
              "      <td>6</td>\n",
              "      <td>General</td>\n",
              "      <td>Tops</td>\n",
              "      <td>Blouses</td>\n",
              "      <td>good</td>\n",
              "      <td>this shirt veri flatter all due the adjust fro...</td>\n",
              "    </tr>\n",
              "  </tbody>\n",
              "</table>\n",
              "</div>"
            ],
            "text/plain": [
              "   index  age                    title  \\\n",
              "0      0   33                     None   \n",
              "1      1   34                     None   \n",
              "2      2   60  Some major design flaws   \n",
              "3      3   50         My favorite buy!   \n",
              "4      4   47         Flattering shirt   \n",
              "\n",
              "                                         review_text  Rating  recomended_ind  \\\n",
              "0  Absolutely wonderful - silky and sexy and comf...       4               1   \n",
              "1  Love this dress!  it's sooo pretty.  i happene...       5               1   \n",
              "2  I had such high hopes for this dress and reall...       3               0   \n",
              "3  I love, love, love this jumpsuit. it's fun, fl...       5               1   \n",
              "4  This shirt is very flattering to all due to th...       5               1   \n",
              "\n",
              "   +feedback_cnt   division_name department class_name Class  \\\n",
              "0              0       Initmates   Intimate  Intimates  good   \n",
              "1              4         General    Dresses    Dresses  good   \n",
              "2              0         General    Dresses    Dresses   bad   \n",
              "3              0  General Petite    Bottoms      Pants  good   \n",
              "4              6         General       Tops    Blouses  good   \n",
              "\n",
              "                                         CleanedText  \n",
              "0          absolut wonder silki and sexi and comfort  \n",
              "1  love this dress it sooo pretti happen find sto...  \n",
              "2  had such high hope for this dress and realli w...  \n",
              "3  love love love this jumpsuit it fun flirti and...  \n",
              "4  this shirt veri flatter all due the adjust fro...  "
            ]
          },
          "metadata": {
            "tags": []
          },
          "execution_count": 216
        }
      ]
    },
    {
      "cell_type": "code",
      "metadata": {
        "id": "JeaYW-oqGVT-",
        "colab_type": "code",
        "colab": {}
      },
      "source": [
        "%matplotlib inline\n",
        "import matplotlib.pyplot as plt\n",
        "from sklearn.model_selection import train_test_split\n",
        "from sklearn.neighbors import KNeighborsClassifier\n",
        "from sklearn.metrics import accuracy_score\n",
        "from collections import Counter\n",
        "import warnings\n",
        "warnings.filterwarnings(\"ignore\")\n",
        "import numpy as np\n",
        "import pandas as pd"
      ],
      "execution_count": null,
      "outputs": []
    },
    {
      "cell_type": "code",
      "metadata": {
        "id": "IfVMZ8VJGVUH",
        "colab_type": "code",
        "colab": {}
      },
      "source": [
        "x_train1 ,x_test1 = train_test_split(final[['CleanedText','recomended_ind']],test_size=0.2)"
      ],
      "execution_count": null,
      "outputs": []
    },
    {
      "cell_type": "code",
      "metadata": {
        "id": "z1O3Z4scGVUT",
        "colab_type": "code",
        "colab": {},
        "outputId": "42484ebb-6c92-4029-e3f2-3bcd236248c2"
      },
      "source": [
        "from sklearn.feature_extraction.text import TfidfTransformer\n",
        "from sklearn.feature_extraction.text import TfidfVectorizer\n",
        "from sklearn.feature_extraction.text import CountVectorizer\n",
        "\n",
        "tf_idf_vect = TfidfVectorizer(ngram_range=(1,2))\n",
        "tf_idf_vect.fit_transform(x_train1['CleanedText'])\n",
        "final_tf_idf = tf_idf_vect.transform(final['CleanedText'].values)\n",
        "print(\"the shape of out text TFIDF vectorizer\",final_tf_idf.get_shape())\n",
        "print(\"the number of unique words\",final_tf_idf.get_shape()[1])"
      ],
      "execution_count": null,
      "outputs": [
        {
          "output_type": "stream",
          "text": [
            "the shape of out text TFIDF vectorizer (22641, 180167)\n",
            "the number of unique words 180167\n"
          ],
          "name": "stdout"
        }
      ]
    },
    {
      "cell_type": "code",
      "metadata": {
        "id": "XGbsp0McGVUh",
        "colab_type": "code",
        "colab": {}
      },
      "source": [
        "import scipy\n",
        "from scipy.sparse import hstack\n",
        "Final_Data = hstack((final_tf_idf,scipy.sparse.csr_matrix(final['recomended_ind']).T))"
      ],
      "execution_count": null,
      "outputs": []
    },
    {
      "cell_type": "code",
      "metadata": {
        "id": "9v4GBMA6GVUs",
        "colab_type": "code",
        "colab": {}
      },
      "source": [
        "final['Class_Ind']=1\n",
        "final.loc[final.Class=='bad',['Class_Ind']]=0"
      ],
      "execution_count": null,
      "outputs": []
    },
    {
      "cell_type": "code",
      "metadata": {
        "id": "BNnY0j0sGVU1",
        "colab_type": "code",
        "colab": {},
        "outputId": "2df12d64-5139-4bed-b301-840276be4b75"
      },
      "source": [
        "from sklearn.model_selection import GridSearchCV\n",
        "from sklearn.naive_bayes import BernoulliNB\n",
        "Final_Data.shape"
      ],
      "execution_count": null,
      "outputs": [
        {
          "output_type": "execute_result",
          "data": {
            "text/plain": [
              "(22641, 180168)"
            ]
          },
          "metadata": {
            "tags": []
          },
          "execution_count": 222
        }
      ]
    },
    {
      "cell_type": "code",
      "metadata": {
        "id": "hqQXUVZFGVVA",
        "colab_type": "code",
        "colab": {}
      },
      "source": [
        "X_tr, X_test, y_tr, y_test = train_test_split(Final_Data,final['Class_Ind'],test_size=0.3,random_state=0)"
      ],
      "execution_count": null,
      "outputs": []
    },
    {
      "cell_type": "code",
      "metadata": {
        "id": "m0xtYSuEGVVJ",
        "colab_type": "code",
        "colab": {}
      },
      "source": [
        "C = [10**x for x in range(-4,4)]\n",
        "tuned_parameters = [{'alpha':C}]\n",
        "model = GridSearchCV(BernoulliNB(binarize=0.0, class_prior=None, fit_prior=True), tuned_parameters, scoring='f1_macro', cv=5, return_train_score=True)\n",
        "model.fit(X_tr, y_tr)\n",
        "cv_score = model.cv_results_['mean_test_score']\n",
        "train_score = model.cv_results_['mean_train_score']"
      ],
      "execution_count": null,
      "outputs": []
    },
    {
      "cell_type": "code",
      "metadata": {
        "id": "mVXysEZVGVVT",
        "colab_type": "code",
        "colab": {},
        "outputId": "3baffb20-17fe-42ff-bd44-33ecc92372fd"
      },
      "source": [
        "from sklearn.metrics import accuracy_score, f1_score, precision_score, recall_score, classification_report, confusion_matrix\n",
        "PD_VALUES = model.predict(X_test)\n",
        "f1_score(y_test, PD_VALUES, average='macro')"
      ],
      "execution_count": null,
      "outputs": [
        {
          "output_type": "execute_result",
          "data": {
            "text/plain": [
              "0.838454621246632"
            ]
          },
          "metadata": {
            "tags": []
          },
          "execution_count": 254
        }
      ]
    },
    {
      "cell_type": "code",
      "metadata": {
        "id": "-P8GHwu0GVVe",
        "colab_type": "code",
        "colab": {}
      },
      "source": [
        "PD_VALUES_TRN = model.predict(X_tr)"
      ],
      "execution_count": null,
      "outputs": []
    },
    {
      "cell_type": "code",
      "metadata": {
        "id": "5vRBsP41GVVn",
        "colab_type": "code",
        "colab": {},
        "outputId": "2b03c7d2-b8d0-428a-9b6a-0be6be85c78e"
      },
      "source": [
        "accuracy_score(y_tr, PD_VALUES_TRN)"
      ],
      "execution_count": null,
      "outputs": [
        {
          "output_type": "execute_result",
          "data": {
            "text/plain": [
              "0.992238768298839"
            ]
          },
          "metadata": {
            "tags": []
          },
          "execution_count": 256
        }
      ]
    },
    {
      "cell_type": "code",
      "metadata": {
        "id": "x5v8J9XuGVVy",
        "colab_type": "code",
        "colab": {},
        "outputId": "3a399102-ae43-4568-bd80-b23c413e8651"
      },
      "source": [
        "accuracy_score(y_test, PD_VALUES)"
      ],
      "execution_count": null,
      "outputs": [
        {
          "output_type": "execute_result",
          "data": {
            "text/plain": [
              "0.8826733402031502"
            ]
          },
          "metadata": {
            "tags": []
          },
          "execution_count": 257
        }
      ]
    },
    {
      "cell_type": "code",
      "metadata": {
        "id": "qcla6WyqGVV7",
        "colab_type": "code",
        "colab": {},
        "outputId": "6022a9f6-7cdf-4360-ed36-d8238557a751"
      },
      "source": [
        "cm = metrics.confusion_matrix(y_test, PD_VALUES)\n",
        "print(cm)"
      ],
      "execution_count": null,
      "outputs": [
        {
          "output_type": "stream",
          "text": [
            "[[1221  384]\n",
            " [ 413 4775]]\n"
          ],
          "name": "stdout"
        }
      ]
    },
    {
      "cell_type": "code",
      "metadata": {
        "id": "tIqK_h3TGVWE",
        "colab_type": "code",
        "colab": {},
        "outputId": "96dfc49f-860a-4f3c-cfaf-b94a07a164df"
      },
      "source": [
        "import math\n",
        "plt.plot(np.log10(C), cv_score, label=\"Validation AUC\")\n",
        "plt.plot(np.log10(C), train_score, label=\"Train AUC\")\n",
        "plt.ylabel('AUC')\n",
        "plt.xlabel('Alpha')\n",
        "plt.title('Hyperparameters Plot')\n",
        "plt.legend()\n",
        "plt.show()"
      ],
      "execution_count": null,
      "outputs": [
        {
          "output_type": "display_data",
          "data": {
            "image/png": "[encoded data removed]",
            "text/plain": [
              "<Figure size 432x288 with 1 Axes>"
            ]
          },
          "metadata": {
            "tags": [],
            "needs_background": "light"
          }
        }
      ]
    },
    {
      "cell_type": "code",
      "metadata": {
        "id": "VoqjZ7LzGVWP",
        "colab_type": "code",
        "colab": {}
      },
      "source": [
        "alpha1 = [10**x for x in range(-4,4)]\n",
        "from sklearn.linear_model import SGDClassifier\n",
        "tuned_parameters = [{'alpha': alpha1}]\n",
        "model = GridSearchCV(SGDClassifier(loss='hinge', penalty='l1'), tuned_parameters, scoring='roc_auc', cv=5, return_train_score=True)\n",
        "model.fit(X_tr, y_tr)\n",
        "cv_score = model.cv_results_['mean_test_score']\n",
        "train_score = model.cv_results_['mean_train_score']"
      ],
      "execution_count": null,
      "outputs": []
    },
    {
      "cell_type": "code",
      "metadata": {
        "id": "R3EGqrCdGVWX",
        "colab_type": "code",
        "colab": {},
        "outputId": "daf45aea-8ab0-4478-85c5-7ec1376e759f"
      },
      "source": [
        "from sklearn.metrics import accuracy_score, f1_score, precision_score, recall_score, classification_report, confusion_matrix\n",
        "PD_VALUES = model.predict(X_test)\n",
        "print('test f1 score',f1_score(y_test, PD_VALUES, average='macro'))\n",
        "PD_VALUES_TRN = model.predict(X_tr)\n",
        "print('train accuracy', accuracy_score(y_tr, PD_VALUES_TRN))\n",
        "print('test accuracy', accuracy_score(y_test, PD_VALUES))"
      ],
      "execution_count": null,
      "outputs": [
        {
          "output_type": "stream",
          "text": [
            "test f1 score 0.8995785979988791\n",
            "train accuracy 0.9362064613831398\n",
            "test accuracy 0.9330192845576328\n"
          ],
          "name": "stdout"
        }
      ]
    },
    {
      "cell_type": "code",
      "metadata": {
        "id": "34QbmltTGVWh",
        "colab_type": "code",
        "colab": {},
        "outputId": "54fce26c-8b3b-4558-f454-09f2b259c5fb"
      },
      "source": [
        "cm = metrics.confusion_matrix(y_test, PD_VALUES)\n",
        "print(cm)"
      ],
      "execution_count": null,
      "outputs": [
        {
          "output_type": "stream",
          "text": [
            "[[1209  396]\n",
            " [  59 5129]]\n"
          ],
          "name": "stdout"
        }
      ]
    },
    {
      "cell_type": "code",
      "metadata": {
        "id": "zJ4HzI6mGVWp",
        "colab_type": "code",
        "colab": {},
        "outputId": "c4f0ae73-09a4-4a63-be90-9d46310a5d2b"
      },
      "source": [
        "import seaborn as sn\n",
        "\n",
        "df_cm = pd.DataFrame(cm, range(2),\n",
        "                    range(2))\n",
        "plt.figure(figsize = (5,3))\n",
        "sn.set(font_scale=1.4)\n",
        "sn.heatmap(df_cm, annot=True, annot_kws={\"size\": 16}, fmt='g')"
      ],
      "execution_count": null,
      "outputs": [
        {
          "output_type": "execute_result",
          "data": {
            "text/plain": [
              "<matplotlib.axes._subplots.AxesSubplot at 0x250222d9128>"
            ]
          },
          "metadata": {
            "tags": []
          },
          "execution_count": 267
        },
        {
          "output_type": "display_data",
          "data": {
            "image/png": "[encoded data removed]",
            "text/plain": [
              "<Figure size 360x216 with 2 Axes>"
            ]
          },
          "metadata": {
            "tags": [],
            "needs_background": "light"
          }
        }
      ]
    },
    {
      "cell_type": "code",
      "metadata": {
        "id": "Uv80Mt4HGVWx",
        "colab_type": "code",
        "colab": {},
        "outputId": "ce73db79-f161-4af2-a2a0-0094a6ec0266"
      },
      "source": [
        "import math\n",
        "plt.plot(np.log10(C), cv_score, label=\"Validation AUC\")\n",
        "plt.plot(np.log10(C), train_score, label=\"Train AUC\")\n",
        "plt.ylabel('AUC')\n",
        "plt.xlabel('Alpha')\n",
        "plt.title('Hyperparameters Plot')\n",
        "plt.legend()\n",
        "plt.show()"
      ],
      "execution_count": null,
      "outputs": [
        {
          "output_type": "display_data",
          "data": {
            "image/png": "[encoded data removed]",
            "text/plain": [
              "<Figure size 432x288 with 1 Axes>"
            ]
          },
          "metadata": {
            "tags": []
          }
        }
      ]
    },
    {
      "cell_type": "code",
      "metadata": {
        "id": "jU6L_hOgGVW5",
        "colab_type": "code",
        "colab": {}
      },
      "source": [
        ""
      ],
      "execution_count": null,
      "outputs": []
    }
  ]
}